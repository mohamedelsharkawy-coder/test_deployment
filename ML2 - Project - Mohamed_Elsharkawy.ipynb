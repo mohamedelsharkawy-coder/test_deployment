{
 "cells": [
  {
   "cell_type": "markdown",
   "metadata": {},
   "source": [
    "# `01` Libraries"
   ]
  },
  {
   "cell_type": "code",
   "execution_count": 145,
   "metadata": {},
   "outputs": [
    {
     "name": "stderr",
     "output_type": "stream",
     "text": [
      "[nltk_data] Downloading package punkt to\n",
      "[nltk_data]     C:\\Users\\user\\AppData\\Roaming\\nltk_data...\n",
      "[nltk_data]   Package punkt is already up-to-date!\n",
      "[nltk_data] Downloading package stopwords to\n",
      "[nltk_data]     C:\\Users\\user\\AppData\\Roaming\\nltk_data...\n",
      "[nltk_data]   Package stopwords is already up-to-date!\n",
      "[nltk_data] Downloading package wordnet to\n",
      "[nltk_data]     C:\\Users\\user\\AppData\\Roaming\\nltk_data...\n",
      "[nltk_data]   Package wordnet is already up-to-date!\n"
     ]
    },
    {
     "data": {
      "text/plain": [
       "True"
      ]
     },
     "execution_count": 145,
     "metadata": {},
     "output_type": "execute_result"
    }
   ],
   "source": [
    "import pandas as pd\n",
    "import nltk\n",
    "import re\n",
    "import string\n",
    "from nltk.corpus import stopwords\n",
    "from nltk.tokenize import word_tokenize\n",
    "from nltk.stem import WordNetLemmatizer\n",
    "from sklearn.feature_extraction.text import TfidfVectorizer\n",
    "from sklearn.cluster import KMeans\n",
    "import matplotlib.pyplot as plt\n",
    "from sklearn.metrics import silhouette_score\n",
    "from sklearn.decomposition import PCA\n",
    "from sklearn.preprocessing import StandardScaler\n",
    "from sklearn.manifold import TSNE\n",
    "import pickle\n",
    "\n",
    "# Download necessary resources\n",
    "nltk.download('punkt')\n",
    "nltk.download('stopwords')\n",
    "nltk.download('wordnet')"
   ]
  },
  {
   "cell_type": "markdown",
   "metadata": {},
   "source": [
    "# `01` Data Collection"
   ]
  },
  {
   "cell_type": "code",
   "execution_count": null,
   "metadata": {},
   "outputs": [
    {
     "data": {
      "text/html": [
       "<div>\n",
       "<style scoped>\n",
       "    .dataframe tbody tr th:only-of-type {\n",
       "        vertical-align: middle;\n",
       "    }\n",
       "\n",
       "    .dataframe tbody tr th {\n",
       "        vertical-align: top;\n",
       "    }\n",
       "\n",
       "    .dataframe thead th {\n",
       "        text-align: right;\n",
       "    }\n",
       "</style>\n",
       "<table border=\"1\" class=\"dataframe\">\n",
       "  <thead>\n",
       "    <tr style=\"text-align: right;\">\n",
       "      <th></th>\n",
       "      <th>URI</th>\n",
       "      <th>name</th>\n",
       "      <th>text</th>\n",
       "    </tr>\n",
       "  </thead>\n",
       "  <tbody>\n",
       "    <tr>\n",
       "      <th>0</th>\n",
       "      <td>&lt;http://dbpedia.org/resource/Digby_Morrell&gt;</td>\n",
       "      <td>Digby Morrell</td>\n",
       "      <td>digby morrell born 10 october 1979 is a former...</td>\n",
       "    </tr>\n",
       "    <tr>\n",
       "      <th>1</th>\n",
       "      <td>&lt;http://dbpedia.org/resource/Alfred_J._Lewy&gt;</td>\n",
       "      <td>Alfred J. Lewy</td>\n",
       "      <td>alfred j lewy aka sandy lewy graduated from un...</td>\n",
       "    </tr>\n",
       "    <tr>\n",
       "      <th>2</th>\n",
       "      <td>&lt;http://dbpedia.org/resource/Harpdog_Brown&gt;</td>\n",
       "      <td>Harpdog Brown</td>\n",
       "      <td>harpdog brown is a singer and harmonica player...</td>\n",
       "    </tr>\n",
       "    <tr>\n",
       "      <th>3</th>\n",
       "      <td>&lt;http://dbpedia.org/resource/Franz_Rottensteiner&gt;</td>\n",
       "      <td>Franz Rottensteiner</td>\n",
       "      <td>franz rottensteiner born in waidmannsfeld lowe...</td>\n",
       "    </tr>\n",
       "    <tr>\n",
       "      <th>4</th>\n",
       "      <td>&lt;http://dbpedia.org/resource/G-Enka&gt;</td>\n",
       "      <td>G-Enka</td>\n",
       "      <td>henry krvits born 30 december 1974 in tallinn ...</td>\n",
       "    </tr>\n",
       "    <tr>\n",
       "      <th>...</th>\n",
       "      <td>...</td>\n",
       "      <td>...</td>\n",
       "      <td>...</td>\n",
       "    </tr>\n",
       "    <tr>\n",
       "      <th>59066</th>\n",
       "      <td>&lt;http://dbpedia.org/resource/Olari_Elts&gt;</td>\n",
       "      <td>Olari Elts</td>\n",
       "      <td>olari elts born april 27 1971 in tallinn eston...</td>\n",
       "    </tr>\n",
       "    <tr>\n",
       "      <th>59067</th>\n",
       "      <td>&lt;http://dbpedia.org/resource/Scott_F._Crago&gt;</td>\n",
       "      <td>Scott F. Crago</td>\n",
       "      <td>scott francis crago born july 26 1963 twin bro...</td>\n",
       "    </tr>\n",
       "    <tr>\n",
       "      <th>59068</th>\n",
       "      <td>&lt;http://dbpedia.org/resource/David_Cass_(footb...</td>\n",
       "      <td>David Cass (footballer)</td>\n",
       "      <td>david william royce cass born 27 march 1962 in...</td>\n",
       "    </tr>\n",
       "    <tr>\n",
       "      <th>59069</th>\n",
       "      <td>&lt;http://dbpedia.org/resource/Keith_Elias&gt;</td>\n",
       "      <td>Keith Elias</td>\n",
       "      <td>keith hector elias born february 3 1972 in lac...</td>\n",
       "    </tr>\n",
       "    <tr>\n",
       "      <th>59070</th>\n",
       "      <td>&lt;http://dbpedia.org/resource/Fawaz_Damrah&gt;</td>\n",
       "      <td>Fawaz Damrah</td>\n",
       "      <td>fawaz mohammed damrah arabic fawwz damra was t...</td>\n",
       "    </tr>\n",
       "  </tbody>\n",
       "</table>\n",
       "<p>59071 rows × 3 columns</p>\n",
       "</div>"
      ],
      "text/plain": [
       "                                                     URI  \\\n",
       "0            <http://dbpedia.org/resource/Digby_Morrell>   \n",
       "1           <http://dbpedia.org/resource/Alfred_J._Lewy>   \n",
       "2            <http://dbpedia.org/resource/Harpdog_Brown>   \n",
       "3      <http://dbpedia.org/resource/Franz_Rottensteiner>   \n",
       "4                   <http://dbpedia.org/resource/G-Enka>   \n",
       "...                                                  ...   \n",
       "59066           <http://dbpedia.org/resource/Olari_Elts>   \n",
       "59067       <http://dbpedia.org/resource/Scott_F._Crago>   \n",
       "59068  <http://dbpedia.org/resource/David_Cass_(footb...   \n",
       "59069          <http://dbpedia.org/resource/Keith_Elias>   \n",
       "59070         <http://dbpedia.org/resource/Fawaz_Damrah>   \n",
       "\n",
       "                          name  \\\n",
       "0                Digby Morrell   \n",
       "1               Alfred J. Lewy   \n",
       "2                Harpdog Brown   \n",
       "3          Franz Rottensteiner   \n",
       "4                       G-Enka   \n",
       "...                        ...   \n",
       "59066               Olari Elts   \n",
       "59067           Scott F. Crago   \n",
       "59068  David Cass (footballer)   \n",
       "59069              Keith Elias   \n",
       "59070             Fawaz Damrah   \n",
       "\n",
       "                                                    text  \n",
       "0      digby morrell born 10 october 1979 is a former...  \n",
       "1      alfred j lewy aka sandy lewy graduated from un...  \n",
       "2      harpdog brown is a singer and harmonica player...  \n",
       "3      franz rottensteiner born in waidmannsfeld lowe...  \n",
       "4      henry krvits born 30 december 1974 in tallinn ...  \n",
       "...                                                  ...  \n",
       "59066  olari elts born april 27 1971 in tallinn eston...  \n",
       "59067  scott francis crago born july 26 1963 twin bro...  \n",
       "59068  david william royce cass born 27 march 1962 in...  \n",
       "59069  keith hector elias born february 3 1972 in lac...  \n",
       "59070  fawaz mohammed damrah arabic fawwz damra was t...  \n",
       "\n",
       "[59071 rows x 3 columns]"
      ]
     },
     "execution_count": 2,
     "metadata": {},
     "output_type": "execute_result"
    }
   ],
   "source": [
    "data = pd.read_csv('data/people_wiki.csv')\n",
    "data"
   ]
  },
  {
   "cell_type": "code",
   "execution_count": 3,
   "metadata": {},
   "outputs": [
    {
     "data": {
      "text/plain": [
       "Index(['URI', 'name', 'text'], dtype='object')"
      ]
     },
     "execution_count": 3,
     "metadata": {},
     "output_type": "execute_result"
    }
   ],
   "source": [
    "data.columns"
   ]
  },
  {
   "cell_type": "code",
   "execution_count": 4,
   "metadata": {},
   "outputs": [
    {
     "data": {
      "text/plain": [
       "0              <http://dbpedia.org/resource/Digby_Morrell>\n",
       "1             <http://dbpedia.org/resource/Alfred_J._Lewy>\n",
       "2              <http://dbpedia.org/resource/Harpdog_Brown>\n",
       "3        <http://dbpedia.org/resource/Franz_Rottensteiner>\n",
       "4                     <http://dbpedia.org/resource/G-Enka>\n",
       "                               ...                        \n",
       "59066             <http://dbpedia.org/resource/Olari_Elts>\n",
       "59067         <http://dbpedia.org/resource/Scott_F._Crago>\n",
       "59068    <http://dbpedia.org/resource/David_Cass_(footb...\n",
       "59069            <http://dbpedia.org/resource/Keith_Elias>\n",
       "59070           <http://dbpedia.org/resource/Fawaz_Damrah>\n",
       "Name: URI, Length: 59071, dtype: object"
      ]
     },
     "execution_count": 4,
     "metadata": {},
     "output_type": "execute_result"
    }
   ],
   "source": [
    "data['URI']"
   ]
  },
  {
   "cell_type": "code",
   "execution_count": 5,
   "metadata": {},
   "outputs": [
    {
     "data": {
      "text/plain": [
       "0                  Digby Morrell\n",
       "1                 Alfred J. Lewy\n",
       "2                  Harpdog Brown\n",
       "3            Franz Rottensteiner\n",
       "4                         G-Enka\n",
       "                  ...           \n",
       "59066                 Olari Elts\n",
       "59067             Scott F. Crago\n",
       "59068    David Cass (footballer)\n",
       "59069                Keith Elias\n",
       "59070               Fawaz Damrah\n",
       "Name: name, Length: 59071, dtype: object"
      ]
     },
     "execution_count": 5,
     "metadata": {},
     "output_type": "execute_result"
    }
   ],
   "source": [
    "data['name']"
   ]
  },
  {
   "cell_type": "code",
   "execution_count": 6,
   "metadata": {},
   "outputs": [
    {
     "data": {
      "text/plain": [
       "'digby morrell born 10 october 1979 is a former australian rules footballer who played with the kangaroos and carlton in the australian football league aflfrom western australia morrell played his early senior football for west perth his 44game senior career for the falcons spanned 19982000 and he was the clubs leading goalkicker in 2000 at the age of 21 morrell was recruited to the australian football league by the kangaroos football club with its third round selection in the 2001 afl rookie draft as a forward he twice kicked five goals during his time with the kangaroos the first was in a losing cause against sydney in 2002 and the other the following season in a drawn game against brisbaneafter the 2003 season morrell was traded along with david teague to the carlton football club in exchange for corey mckernan he played 32 games for the blues before being delisted at the end of 2005 he continued to play victorian football league vfl football with the northern bullants carltons vflaffiliate in 2006 and acted as playing assistant coach in 2007 in 2008 he shifted to the box hill hawks before retiring from playing at the end of the season from 2009 until 2013 morrell was the senior coach of the strathmore football club in the essendon district football league leading the club to the 2011 premier division premiership since 2014 he has coached the west coburg football club also in the edflhe currently teaches physical education at parade college in melbourne'"
      ]
     },
     "execution_count": 6,
     "metadata": {},
     "output_type": "execute_result"
    }
   ],
   "source": [
    "data['text'][0]"
   ]
  },
  {
   "cell_type": "code",
   "execution_count": 7,
   "metadata": {},
   "outputs": [
    {
     "data": {
      "text/plain": [
       "'alfred j lewy aka sandy lewy graduated from university of chicago in 1973 after studying psychiatry pharmacology and ophthalmology he is a full professor and vicechair of the department of psychiatry at ohsu oregon health science university and holds an md and phd prior to moving to oregon in 1981 lewy was at the national institute of mental health nimh in bethesda maryland working with senior colleague thomas wehr in oregon he has worked closely with robert l sack as of december 2005 he had 94 publications available on pubmed he describes his research as follows my laboratory studies chronobiologic sleep and mood disorders these disorders include winter depression jet lag maladaptation to shift work and certain types of sleep disturbances relying on a very precise assay for plasma melatonin a hormone that has a clearly defined 24hour pattern of secretion biological rhythm disorders can be assessed and their treatment can be monitored current research is focused on developing bright light exposure and melatonin administration as treatment modalities for these disorders treatment must be precisely scheduled morning light exposure and evening melatonin administration cause circadian phaseadvance shifts evening light exposure and morning melatonin administration cause circadian phasedelay shifts totally blind individuals have 25hour circadian rhythms drifting an hour later each day unless they take a melatonin capsule at a certain time every day'"
      ]
     },
     "execution_count": 7,
     "metadata": {},
     "output_type": "execute_result"
    }
   ],
   "source": [
    "data['text'][1]"
   ]
  },
  {
   "cell_type": "code",
   "execution_count": 8,
   "metadata": {},
   "outputs": [
    {
     "data": {
      "text/plain": [
       "'harpdog brown is a singer and harmonica player who has been active in canadas blues scene since 1982 hailing from vancouver he crossed tens of thousands of miles playing club dates and festivals in canada the northwestern united states and germanyover the years he has issued seven cds in 1995 his home is where the harp is won the muddy award for the best nw blues release from the cascade blues association in portland oregon as well that year it was nominated for a canadian juno for the best bluesgospel recording teamed up with graham guest on piano his cd naturally was voted 1 canadian blues album of 2010 by the blind lemon surveybrown tours extensively with his guitarist j arthur edmonds performing their electric mid1950s chicago blues either as a duo or with the full band while he is home he juggles a few combos working many venues big and small he also leads the harpdog brown band which is a gutsy traditional chicago blues band in 2014 they released what it is comprising mainly original songs and a few classic covers influential blues promoter and broadcaster holger petersen called what it is browns best albumhe was just awarded the maple blues award in toronto for best harmonica player in canada 2014 and was honored with a life time membership to the hamilton blues society'"
      ]
     },
     "execution_count": 8,
     "metadata": {},
     "output_type": "execute_result"
    }
   ],
   "source": [
    "data['text'][2]"
   ]
  },
  {
   "cell_type": "markdown",
   "metadata": {},
   "source": [
    "# `02` Data Preprocessing\n",
    "- **Cleaning**: Remove noise, handle missing values, and normalize text (e.g., lowercasing, stemming).\n",
    "- **Tokenization**: Split text into tokens (words or phrases).\n",
    "- **Stop Words Removal**: Eliminate common words that may not contribute to clustering (e.g., \"the\", \"and\")."
   ]
  },
  {
   "cell_type": "markdown",
   "metadata": {},
   "source": [
    "### `2.1` Drop Columns [URI, name]"
   ]
  },
  {
   "cell_type": "code",
   "execution_count": 9,
   "metadata": {},
   "outputs": [],
   "source": [
    "data.drop(columns=['URI', 'name'], inplace=True)"
   ]
  },
  {
   "cell_type": "code",
   "execution_count": 10,
   "metadata": {},
   "outputs": [
    {
     "data": {
      "text/html": [
       "<div>\n",
       "<style scoped>\n",
       "    .dataframe tbody tr th:only-of-type {\n",
       "        vertical-align: middle;\n",
       "    }\n",
       "\n",
       "    .dataframe tbody tr th {\n",
       "        vertical-align: top;\n",
       "    }\n",
       "\n",
       "    .dataframe thead th {\n",
       "        text-align: right;\n",
       "    }\n",
       "</style>\n",
       "<table border=\"1\" class=\"dataframe\">\n",
       "  <thead>\n",
       "    <tr style=\"text-align: right;\">\n",
       "      <th></th>\n",
       "      <th>text</th>\n",
       "    </tr>\n",
       "  </thead>\n",
       "  <tbody>\n",
       "    <tr>\n",
       "      <th>0</th>\n",
       "      <td>digby morrell born 10 october 1979 is a former...</td>\n",
       "    </tr>\n",
       "    <tr>\n",
       "      <th>1</th>\n",
       "      <td>alfred j lewy aka sandy lewy graduated from un...</td>\n",
       "    </tr>\n",
       "    <tr>\n",
       "      <th>2</th>\n",
       "      <td>harpdog brown is a singer and harmonica player...</td>\n",
       "    </tr>\n",
       "    <tr>\n",
       "      <th>3</th>\n",
       "      <td>franz rottensteiner born in waidmannsfeld lowe...</td>\n",
       "    </tr>\n",
       "    <tr>\n",
       "      <th>4</th>\n",
       "      <td>henry krvits born 30 december 1974 in tallinn ...</td>\n",
       "    </tr>\n",
       "    <tr>\n",
       "      <th>...</th>\n",
       "      <td>...</td>\n",
       "    </tr>\n",
       "    <tr>\n",
       "      <th>59066</th>\n",
       "      <td>olari elts born april 27 1971 in tallinn eston...</td>\n",
       "    </tr>\n",
       "    <tr>\n",
       "      <th>59067</th>\n",
       "      <td>scott francis crago born july 26 1963 twin bro...</td>\n",
       "    </tr>\n",
       "    <tr>\n",
       "      <th>59068</th>\n",
       "      <td>david william royce cass born 27 march 1962 in...</td>\n",
       "    </tr>\n",
       "    <tr>\n",
       "      <th>59069</th>\n",
       "      <td>keith hector elias born february 3 1972 in lac...</td>\n",
       "    </tr>\n",
       "    <tr>\n",
       "      <th>59070</th>\n",
       "      <td>fawaz mohammed damrah arabic fawwz damra was t...</td>\n",
       "    </tr>\n",
       "  </tbody>\n",
       "</table>\n",
       "<p>59071 rows × 1 columns</p>\n",
       "</div>"
      ],
      "text/plain": [
       "                                                    text\n",
       "0      digby morrell born 10 october 1979 is a former...\n",
       "1      alfred j lewy aka sandy lewy graduated from un...\n",
       "2      harpdog brown is a singer and harmonica player...\n",
       "3      franz rottensteiner born in waidmannsfeld lowe...\n",
       "4      henry krvits born 30 december 1974 in tallinn ...\n",
       "...                                                  ...\n",
       "59066  olari elts born april 27 1971 in tallinn eston...\n",
       "59067  scott francis crago born july 26 1963 twin bro...\n",
       "59068  david william royce cass born 27 march 1962 in...\n",
       "59069  keith hector elias born february 3 1972 in lac...\n",
       "59070  fawaz mohammed damrah arabic fawwz damra was t...\n",
       "\n",
       "[59071 rows x 1 columns]"
      ]
     },
     "execution_count": 10,
     "metadata": {},
     "output_type": "execute_result"
    }
   ],
   "source": [
    "data"
   ]
  },
  {
   "cell_type": "markdown",
   "metadata": {},
   "source": [
    "### `2.2` Function For Text Preprocessing"
   ]
  },
  {
   "cell_type": "code",
   "execution_count": null,
   "metadata": {},
   "outputs": [],
   "source": [
    "lemmatizer = WordNetLemmatizer()\n",
    "stop_words = set(stopwords.words('english'))"
   ]
  },
  {
   "cell_type": "code",
   "execution_count": null,
   "metadata": {},
   "outputs": [],
   "source": [
    "def preprocess_text(text):\n",
    "    \n",
    "    # Convert text to lowercase\n",
    "    text = text.lower()\n",
    "    \n",
    "    # Remove special characters, numbers, and punctuation\n",
    "    text = re.sub(r'\\d+', '', text)  # Remove numbers\n",
    "    text = text.translate(str.maketrans('', '', string.punctuation))  # Remove punctuation\n",
    "    \n",
    "    # Tokenization\n",
    "    tokens = word_tokenize(text)\n",
    "    \n",
    "    # Remove stopwords and apply lemmatization\n",
    "    tokens = [lemmatizer.lemmatize(word) for word in tokens if word not in stop_words]\n",
    "    \n",
    "    return \" \".join(tokens)"
   ]
  },
  {
   "cell_type": "code",
   "execution_count": 13,
   "metadata": {},
   "outputs": [],
   "source": [
    "data['processed_text'] = data['text'].apply(preprocess_text)"
   ]
  },
  {
   "cell_type": "code",
   "execution_count": 14,
   "metadata": {},
   "outputs": [
    {
     "data": {
      "text/html": [
       "<div>\n",
       "<style scoped>\n",
       "    .dataframe tbody tr th:only-of-type {\n",
       "        vertical-align: middle;\n",
       "    }\n",
       "\n",
       "    .dataframe tbody tr th {\n",
       "        vertical-align: top;\n",
       "    }\n",
       "\n",
       "    .dataframe thead th {\n",
       "        text-align: right;\n",
       "    }\n",
       "</style>\n",
       "<table border=\"1\" class=\"dataframe\">\n",
       "  <thead>\n",
       "    <tr style=\"text-align: right;\">\n",
       "      <th></th>\n",
       "      <th>text</th>\n",
       "      <th>processed_text</th>\n",
       "    </tr>\n",
       "  </thead>\n",
       "  <tbody>\n",
       "    <tr>\n",
       "      <th>0</th>\n",
       "      <td>digby morrell born 10 october 1979 is a former...</td>\n",
       "      <td>digby morrell born october former australian r...</td>\n",
       "    </tr>\n",
       "    <tr>\n",
       "      <th>1</th>\n",
       "      <td>alfred j lewy aka sandy lewy graduated from un...</td>\n",
       "      <td>alfred j lewy aka sandy lewy graduated univers...</td>\n",
       "    </tr>\n",
       "    <tr>\n",
       "      <th>2</th>\n",
       "      <td>harpdog brown is a singer and harmonica player...</td>\n",
       "      <td>harpdog brown singer harmonica player active c...</td>\n",
       "    </tr>\n",
       "    <tr>\n",
       "      <th>3</th>\n",
       "      <td>franz rottensteiner born in waidmannsfeld lowe...</td>\n",
       "      <td>franz rottensteiner born waidmannsfeld lower a...</td>\n",
       "    </tr>\n",
       "    <tr>\n",
       "      <th>4</th>\n",
       "      <td>henry krvits born 30 december 1974 in tallinn ...</td>\n",
       "      <td>henry krvits born december tallinn better know...</td>\n",
       "    </tr>\n",
       "  </tbody>\n",
       "</table>\n",
       "</div>"
      ],
      "text/plain": [
       "                                                text  \\\n",
       "0  digby morrell born 10 october 1979 is a former...   \n",
       "1  alfred j lewy aka sandy lewy graduated from un...   \n",
       "2  harpdog brown is a singer and harmonica player...   \n",
       "3  franz rottensteiner born in waidmannsfeld lowe...   \n",
       "4  henry krvits born 30 december 1974 in tallinn ...   \n",
       "\n",
       "                                      processed_text  \n",
       "0  digby morrell born october former australian r...  \n",
       "1  alfred j lewy aka sandy lewy graduated univers...  \n",
       "2  harpdog brown singer harmonica player active c...  \n",
       "3  franz rottensteiner born waidmannsfeld lower a...  \n",
       "4  henry krvits born december tallinn better know...  "
      ]
     },
     "execution_count": 14,
     "metadata": {},
     "output_type": "execute_result"
    }
   ],
   "source": [
    "data.head()"
   ]
  },
  {
   "cell_type": "code",
   "execution_count": 15,
   "metadata": {},
   "outputs": [
    {
     "data": {
      "text/plain": [
       "'digby morrell born 10 october 1979 is a former australian rules footballer who played with the kangaroos and carlton in the australian football league aflfrom western australia morrell played his early senior football for west perth his 44game senior career for the falcons spanned 19982000 and he was the clubs leading goalkicker in 2000 at the age of 21 morrell was recruited to the australian football league by the kangaroos football club with its third round selection in the 2001 afl rookie draft as a forward he twice kicked five goals during his time with the kangaroos the first was in a losing cause against sydney in 2002 and the other the following season in a drawn game against brisbaneafter the 2003 season morrell was traded along with david teague to the carlton football club in exchange for corey mckernan he played 32 games for the blues before being delisted at the end of 2005 he continued to play victorian football league vfl football with the northern bullants carltons vflaffiliate in 2006 and acted as playing assistant coach in 2007 in 2008 he shifted to the box hill hawks before retiring from playing at the end of the season from 2009 until 2013 morrell was the senior coach of the strathmore football club in the essendon district football league leading the club to the 2011 premier division premiership since 2014 he has coached the west coburg football club also in the edflhe currently teaches physical education at parade college in melbourne'"
      ]
     },
     "execution_count": 15,
     "metadata": {},
     "output_type": "execute_result"
    }
   ],
   "source": [
    "data.head()['text'][0]"
   ]
  },
  {
   "cell_type": "code",
   "execution_count": 16,
   "metadata": {},
   "outputs": [
    {
     "data": {
      "text/plain": [
       "'digby morrell born october former australian rule footballer played kangaroo carlton australian football league aflfrom western australia morrell played early senior football west perth game senior career falcon spanned club leading goalkicker age morrell recruited australian football league kangaroo football club third round selection afl rookie draft forward twice kicked five goal time kangaroo first losing cause sydney following season drawn game brisbaneafter season morrell traded along david teague carlton football club exchange corey mckernan played game blue delisted end continued play victorian football league vfl football northern bullants carltons vflaffiliate acted playing assistant coach shifted box hill hawk retiring playing end season morrell senior coach strathmore football club essendon district football league leading club premier division premiership since coached west coburg football club also edflhe currently teach physical education parade college melbourne'"
      ]
     },
     "execution_count": 16,
     "metadata": {},
     "output_type": "execute_result"
    }
   ],
   "source": [
    "data.head()['processed_text'][0]"
   ]
  },
  {
   "cell_type": "markdown",
   "metadata": {},
   "source": [
    "# `03` Feature Extraction\n",
    "- **TF-IDF Vectorization**: Convert textual data into numerical features using Term Frequency-Inverse Document Frequency."
   ]
  },
  {
   "cell_type": "code",
   "execution_count": null,
   "metadata": {},
   "outputs": [
    {
     "name": "stdout",
     "output_type": "stream",
     "text": [
      "TF-IDF Matrix Shape: (59071, 2000)\n"
     ]
    },
    {
     "data": {
      "text/html": [
       "<div>\n",
       "<style scoped>\n",
       "    .dataframe tbody tr th:only-of-type {\n",
       "        vertical-align: middle;\n",
       "    }\n",
       "\n",
       "    .dataframe tbody tr th {\n",
       "        vertical-align: top;\n",
       "    }\n",
       "\n",
       "    .dataframe thead th {\n",
       "        text-align: right;\n",
       "    }\n",
       "</style>\n",
       "<table border=\"1\" class=\"dataframe\">\n",
       "  <thead>\n",
       "    <tr style=\"text-align: right;\">\n",
       "      <th></th>\n",
       "      <th>abc</th>\n",
       "      <th>ability</th>\n",
       "      <th>able</th>\n",
       "      <th>abroad</th>\n",
       "      <th>academic</th>\n",
       "      <th>academy</th>\n",
       "      <th>accepted</th>\n",
       "      <th>acclaim</th>\n",
       "      <th>acclaimed</th>\n",
       "      <th>according</th>\n",
       "      <th>...</th>\n",
       "      <th>yale</th>\n",
       "      <th>yard</th>\n",
       "      <th>year</th>\n",
       "      <th>yet</th>\n",
       "      <th>york</th>\n",
       "      <th>young</th>\n",
       "      <th>younger</th>\n",
       "      <th>youngest</th>\n",
       "      <th>youth</th>\n",
       "      <th>zealand</th>\n",
       "    </tr>\n",
       "  </thead>\n",
       "  <tbody>\n",
       "    <tr>\n",
       "      <th>0</th>\n",
       "      <td>0.0</td>\n",
       "      <td>0.0</td>\n",
       "      <td>0.0</td>\n",
       "      <td>0.0</td>\n",
       "      <td>0.0</td>\n",
       "      <td>0.0</td>\n",
       "      <td>0.0</td>\n",
       "      <td>0.0</td>\n",
       "      <td>0.0</td>\n",
       "      <td>0.0</td>\n",
       "      <td>...</td>\n",
       "      <td>0.0</td>\n",
       "      <td>0.0</td>\n",
       "      <td>0.000000</td>\n",
       "      <td>0.000000</td>\n",
       "      <td>0.000000</td>\n",
       "      <td>0.0</td>\n",
       "      <td>0.0</td>\n",
       "      <td>0.0</td>\n",
       "      <td>0.0</td>\n",
       "      <td>0.0</td>\n",
       "    </tr>\n",
       "    <tr>\n",
       "      <th>1</th>\n",
       "      <td>0.0</td>\n",
       "      <td>0.0</td>\n",
       "      <td>0.0</td>\n",
       "      <td>0.0</td>\n",
       "      <td>0.0</td>\n",
       "      <td>0.0</td>\n",
       "      <td>0.0</td>\n",
       "      <td>0.0</td>\n",
       "      <td>0.0</td>\n",
       "      <td>0.0</td>\n",
       "      <td>...</td>\n",
       "      <td>0.0</td>\n",
       "      <td>0.0</td>\n",
       "      <td>0.000000</td>\n",
       "      <td>0.000000</td>\n",
       "      <td>0.000000</td>\n",
       "      <td>0.0</td>\n",
       "      <td>0.0</td>\n",
       "      <td>0.0</td>\n",
       "      <td>0.0</td>\n",
       "      <td>0.0</td>\n",
       "    </tr>\n",
       "    <tr>\n",
       "      <th>2</th>\n",
       "      <td>0.0</td>\n",
       "      <td>0.0</td>\n",
       "      <td>0.0</td>\n",
       "      <td>0.0</td>\n",
       "      <td>0.0</td>\n",
       "      <td>0.0</td>\n",
       "      <td>0.0</td>\n",
       "      <td>0.0</td>\n",
       "      <td>0.0</td>\n",
       "      <td>0.0</td>\n",
       "      <td>...</td>\n",
       "      <td>0.0</td>\n",
       "      <td>0.0</td>\n",
       "      <td>0.059855</td>\n",
       "      <td>0.000000</td>\n",
       "      <td>0.000000</td>\n",
       "      <td>0.0</td>\n",
       "      <td>0.0</td>\n",
       "      <td>0.0</td>\n",
       "      <td>0.0</td>\n",
       "      <td>0.0</td>\n",
       "    </tr>\n",
       "    <tr>\n",
       "      <th>3</th>\n",
       "      <td>0.0</td>\n",
       "      <td>0.0</td>\n",
       "      <td>0.0</td>\n",
       "      <td>0.0</td>\n",
       "      <td>0.0</td>\n",
       "      <td>0.0</td>\n",
       "      <td>0.0</td>\n",
       "      <td>0.0</td>\n",
       "      <td>0.0</td>\n",
       "      <td>0.0</td>\n",
       "      <td>...</td>\n",
       "      <td>0.0</td>\n",
       "      <td>0.0</td>\n",
       "      <td>0.107815</td>\n",
       "      <td>0.081472</td>\n",
       "      <td>0.043076</td>\n",
       "      <td>0.0</td>\n",
       "      <td>0.0</td>\n",
       "      <td>0.0</td>\n",
       "      <td>0.0</td>\n",
       "      <td>0.0</td>\n",
       "    </tr>\n",
       "    <tr>\n",
       "      <th>4</th>\n",
       "      <td>0.0</td>\n",
       "      <td>0.0</td>\n",
       "      <td>0.0</td>\n",
       "      <td>0.0</td>\n",
       "      <td>0.0</td>\n",
       "      <td>0.0</td>\n",
       "      <td>0.0</td>\n",
       "      <td>0.0</td>\n",
       "      <td>0.0</td>\n",
       "      <td>0.0</td>\n",
       "      <td>...</td>\n",
       "      <td>0.0</td>\n",
       "      <td>0.0</td>\n",
       "      <td>0.076221</td>\n",
       "      <td>0.000000</td>\n",
       "      <td>0.000000</td>\n",
       "      <td>0.0</td>\n",
       "      <td>0.0</td>\n",
       "      <td>0.0</td>\n",
       "      <td>0.0</td>\n",
       "      <td>0.0</td>\n",
       "    </tr>\n",
       "  </tbody>\n",
       "</table>\n",
       "<p>5 rows × 2000 columns</p>\n",
       "</div>"
      ],
      "text/plain": [
       "   abc  ability  able  abroad  academic  academy  accepted  acclaim  \\\n",
       "0  0.0      0.0   0.0     0.0       0.0      0.0       0.0      0.0   \n",
       "1  0.0      0.0   0.0     0.0       0.0      0.0       0.0      0.0   \n",
       "2  0.0      0.0   0.0     0.0       0.0      0.0       0.0      0.0   \n",
       "3  0.0      0.0   0.0     0.0       0.0      0.0       0.0      0.0   \n",
       "4  0.0      0.0   0.0     0.0       0.0      0.0       0.0      0.0   \n",
       "\n",
       "   acclaimed  according  ...  yale  yard      year       yet      york  young  \\\n",
       "0        0.0        0.0  ...   0.0   0.0  0.000000  0.000000  0.000000    0.0   \n",
       "1        0.0        0.0  ...   0.0   0.0  0.000000  0.000000  0.000000    0.0   \n",
       "2        0.0        0.0  ...   0.0   0.0  0.059855  0.000000  0.000000    0.0   \n",
       "3        0.0        0.0  ...   0.0   0.0  0.107815  0.081472  0.043076    0.0   \n",
       "4        0.0        0.0  ...   0.0   0.0  0.076221  0.000000  0.000000    0.0   \n",
       "\n",
       "   younger  youngest  youth  zealand  \n",
       "0      0.0       0.0    0.0      0.0  \n",
       "1      0.0       0.0    0.0      0.0  \n",
       "2      0.0       0.0    0.0      0.0  \n",
       "3      0.0       0.0    0.0      0.0  \n",
       "4      0.0       0.0    0.0      0.0  \n",
       "\n",
       "[5 rows x 2000 columns]"
      ]
     },
     "execution_count": 21,
     "metadata": {},
     "output_type": "execute_result"
    }
   ],
   "source": [
    "# Initialize TF-IDF Vectorizer\n",
    "vectorizer = TfidfVectorizer(max_features=2000) \n",
    "tfidf_matrix = vectorizer.fit_transform(data['processed_text'])\n",
    "\n",
    "# Convert TF-IDF matrix to a DataFrame\n",
    "tfidf_df = pd.DataFrame(tfidf_matrix.toarray(), columns=vectorizer.get_feature_names_out())\n",
    "\n",
    "print(\"TF-IDF Matrix Shape:\", tfidf_df.shape)\n",
    "\n",
    "tfidf_df.head()\n"
   ]
  },
  {
   "cell_type": "code",
   "execution_count": 22,
   "metadata": {},
   "outputs": [
    {
     "data": {
      "text/plain": [
       "Index(['abc', 'ability', 'able', 'abroad', 'academic', 'academy', 'accepted',\n",
       "       'acclaim', 'acclaimed', 'according',\n",
       "       ...\n",
       "       'yale', 'yard', 'year', 'yet', 'york', 'young', 'younger', 'youngest',\n",
       "       'youth', 'zealand'],\n",
       "      dtype='object', length=2000)"
      ]
     },
     "execution_count": 22,
     "metadata": {},
     "output_type": "execute_result"
    }
   ],
   "source": [
    "tfidf_df.columns"
   ]
  },
  {
   "cell_type": "markdown",
   "metadata": {},
   "source": [
    "# `04` Clustering Algorithms\n",
    "- **K-Means Clustering**: Partition documents into 'k' clusters based on feature similarity."
   ]
  },
  {
   "cell_type": "code",
   "execution_count": null,
   "metadata": {},
   "outputs": [
    {
     "data": {
      "image/png": "[encoded data removed]",
      "text/plain": [
       "<Figure size 800x500 with 1 Axes>"
      ]
     },
     "metadata": {},
     "output_type": "display_data"
    }
   ],
   "source": [
    "inertia = []\n",
    "k_values = range(2, 15) \n",
    "\n",
    "for k in k_values:\n",
    "    kmeans = KMeans(n_clusters=k, random_state=89, n_init=10)\n",
    "    kmeans.fit(tfidf_matrix)\n",
    "    inertia.append(kmeans.inertia_)  \n",
    "\n",
    "plt.figure(figsize=(8, 5))\n",
    "plt.plot(k_values, inertia, marker='o', linestyle='-')\n",
    "plt.xlabel('Number of Clusters (k)')\n",
    "plt.ylabel('Inertia')\n",
    "plt.title('Elbow Method for Optimal K')\n",
    "plt.show()"
   ]
  },
  {
   "cell_type": "markdown",
   "metadata": {},
   "source": [
    "### Apply PCA on Data For Better Performance"
   ]
  },
  {
   "cell_type": "code",
   "execution_count": null,
   "metadata": {},
   "outputs": [],
   "source": [
    "# make standerscaler before PCA\n",
    "scaler = StandardScaler()\n",
    "tfidf_scaled = scaler.fit_transform(tfidf_df)\n",
    "\n",
    "# apply PCA to the most 3 components \n",
    "pca = PCA(n_components=3) \n",
    "pca_result = pca.fit_transform(tfidf_scaled)\n",
    "\n",
    "# then apply the kmeans model\n",
    "kmeans = KMeans(n_clusters=3, random_state=89)  # Adjust the number of clusters (k) as needed\n",
    "kmeans.fit(pca_result)"
   ]
  },
  {
   "cell_type": "code",
   "execution_count": null,
   "metadata": {},
   "outputs": [],
   "source": [
    "# save the cluster labels in my dataset\n",
    "data['clusters'] = kmeans.labels_"
   ]
  },
  {
   "cell_type": "code",
   "execution_count": 26,
   "metadata": {},
   "outputs": [
    {
     "data": {
      "text/html": [
       "<div>\n",
       "<style scoped>\n",
       "    .dataframe tbody tr th:only-of-type {\n",
       "        vertical-align: middle;\n",
       "    }\n",
       "\n",
       "    .dataframe tbody tr th {\n",
       "        vertical-align: top;\n",
       "    }\n",
       "\n",
       "    .dataframe thead th {\n",
       "        text-align: right;\n",
       "    }\n",
       "</style>\n",
       "<table border=\"1\" class=\"dataframe\">\n",
       "  <thead>\n",
       "    <tr style=\"text-align: right;\">\n",
       "      <th></th>\n",
       "      <th>text</th>\n",
       "      <th>processed_text</th>\n",
       "      <th>clusters</th>\n",
       "    </tr>\n",
       "  </thead>\n",
       "  <tbody>\n",
       "    <tr>\n",
       "      <th>0</th>\n",
       "      <td>digby morrell born 10 october 1979 is a former...</td>\n",
       "      <td>digby morrell born october former australian r...</td>\n",
       "      <td>0</td>\n",
       "    </tr>\n",
       "    <tr>\n",
       "      <th>1</th>\n",
       "      <td>alfred j lewy aka sandy lewy graduated from un...</td>\n",
       "      <td>alfred j lewy aka sandy lewy graduated univers...</td>\n",
       "      <td>1</td>\n",
       "    </tr>\n",
       "    <tr>\n",
       "      <th>2</th>\n",
       "      <td>harpdog brown is a singer and harmonica player...</td>\n",
       "      <td>harpdog brown singer harmonica player active c...</td>\n",
       "      <td>2</td>\n",
       "    </tr>\n",
       "    <tr>\n",
       "      <th>3</th>\n",
       "      <td>franz rottensteiner born in waidmannsfeld lowe...</td>\n",
       "      <td>franz rottensteiner born waidmannsfeld lower a...</td>\n",
       "      <td>2</td>\n",
       "    </tr>\n",
       "    <tr>\n",
       "      <th>4</th>\n",
       "      <td>henry krvits born 30 december 1974 in tallinn ...</td>\n",
       "      <td>henry krvits born december tallinn better know...</td>\n",
       "      <td>2</td>\n",
       "    </tr>\n",
       "    <tr>\n",
       "      <th>...</th>\n",
       "      <td>...</td>\n",
       "      <td>...</td>\n",
       "      <td>...</td>\n",
       "    </tr>\n",
       "    <tr>\n",
       "      <th>59066</th>\n",
       "      <td>olari elts born april 27 1971 in tallinn eston...</td>\n",
       "      <td>olari elts born april tallinn estonia estonian...</td>\n",
       "      <td>2</td>\n",
       "    </tr>\n",
       "    <tr>\n",
       "      <th>59067</th>\n",
       "      <td>scott francis crago born july 26 1963 twin bro...</td>\n",
       "      <td>scott francis crago born july twin brother jef...</td>\n",
       "      <td>2</td>\n",
       "    </tr>\n",
       "    <tr>\n",
       "      <th>59068</th>\n",
       "      <td>david william royce cass born 27 march 1962 in...</td>\n",
       "      <td>david william royce cass born march forest gat...</td>\n",
       "      <td>0</td>\n",
       "    </tr>\n",
       "    <tr>\n",
       "      <th>59069</th>\n",
       "      <td>keith hector elias born february 3 1972 in lac...</td>\n",
       "      <td>keith hector elia born february lacey township...</td>\n",
       "      <td>0</td>\n",
       "    </tr>\n",
       "    <tr>\n",
       "      <th>59070</th>\n",
       "      <td>fawaz mohammed damrah arabic fawwz damra was t...</td>\n",
       "      <td>fawaz mohammed damrah arabic fawwz damra imam ...</td>\n",
       "      <td>1</td>\n",
       "    </tr>\n",
       "  </tbody>\n",
       "</table>\n",
       "<p>59071 rows × 3 columns</p>\n",
       "</div>"
      ],
      "text/plain": [
       "                                                    text  \\\n",
       "0      digby morrell born 10 october 1979 is a former...   \n",
       "1      alfred j lewy aka sandy lewy graduated from un...   \n",
       "2      harpdog brown is a singer and harmonica player...   \n",
       "3      franz rottensteiner born in waidmannsfeld lowe...   \n",
       "4      henry krvits born 30 december 1974 in tallinn ...   \n",
       "...                                                  ...   \n",
       "59066  olari elts born april 27 1971 in tallinn eston...   \n",
       "59067  scott francis crago born july 26 1963 twin bro...   \n",
       "59068  david william royce cass born 27 march 1962 in...   \n",
       "59069  keith hector elias born february 3 1972 in lac...   \n",
       "59070  fawaz mohammed damrah arabic fawwz damra was t...   \n",
       "\n",
       "                                          processed_text  clusters  \n",
       "0      digby morrell born october former australian r...         0  \n",
       "1      alfred j lewy aka sandy lewy graduated univers...         1  \n",
       "2      harpdog brown singer harmonica player active c...         2  \n",
       "3      franz rottensteiner born waidmannsfeld lower a...         2  \n",
       "4      henry krvits born december tallinn better know...         2  \n",
       "...                                                  ...       ...  \n",
       "59066  olari elts born april tallinn estonia estonian...         2  \n",
       "59067  scott francis crago born july twin brother jef...         2  \n",
       "59068  david william royce cass born march forest gat...         0  \n",
       "59069  keith hector elia born february lacey township...         0  \n",
       "59070  fawaz mohammed damrah arabic fawwz damra imam ...         1  \n",
       "\n",
       "[59071 rows x 3 columns]"
      ]
     },
     "execution_count": 26,
     "metadata": {},
     "output_type": "execute_result"
    }
   ],
   "source": [
    "data"
   ]
  },
  {
   "cell_type": "code",
   "execution_count": 27,
   "metadata": {},
   "outputs": [
    {
     "data": {
      "text/plain": [
       "clusters\n",
       "2    23510\n",
       "1    22889\n",
       "0    12672\n",
       "Name: count, dtype: int64"
      ]
     },
     "execution_count": 27,
     "metadata": {},
     "output_type": "execute_result"
    }
   ],
   "source": [
    "data['clusters'].value_counts()"
   ]
  },
  {
   "cell_type": "markdown",
   "metadata": {},
   "source": [
    "# `05` Evaluation of Clusters\n",
    "- **Silhouette Score**: Measure how similar a document is to its own cluster compared to other clusters."
   ]
  },
  {
   "cell_type": "code",
   "execution_count": null,
   "metadata": {},
   "outputs": [
    {
     "name": "stdout",
     "output_type": "stream",
     "text": [
      "Silhouette Score after PCA (K-Means): 0.44415108248390284\n"
     ]
    }
   ],
   "source": [
    "silhouette_avg_kmeans_pca = silhouette_score(pca_result, kmeans.labels_)\n",
    "print(f\"Silhouette Score after PCA (K-Means): {silhouette_avg_kmeans_pca}\")"
   ]
  },
  {
   "cell_type": "markdown",
   "metadata": {},
   "source": [
    "# `06` Visualization"
   ]
  },
  {
   "cell_type": "markdown",
   "metadata": {},
   "source": [
    "### `6.1` Using PCA"
   ]
  },
  {
   "cell_type": "code",
   "execution_count": null,
   "metadata": {},
   "outputs": [
    {
     "data": {
      "image/png": "[encoded data removed]",
      "text/plain": [
       "<Figure size 800x600 with 2 Axes>"
      ]
     },
     "metadata": {},
     "output_type": "display_data"
    }
   ],
   "source": [
    "plt.figure(figsize=(8, 6))\n",
    "plt.scatter(pca_result[:, 0], pca_result[:, 1], c=kmeans.labels_, cmap='viridis', alpha=0.7)\n",
    "plt.title(\"K-Means Clusters on PCA-reduced Data\")\n",
    "plt.xlabel(\"PCA Component 1\")\n",
    "plt.ylabel(\"PCA Component 2\")\n",
    "plt.colorbar(label=\"Cluster\")\n",
    "plt.show()"
   ]
  },
  {
   "cell_type": "markdown",
   "metadata": {},
   "source": [
    "### `6.2` Using t-SNE "
   ]
  },
  {
   "cell_type": "code",
   "execution_count": null,
   "metadata": {},
   "outputs": [
    {
     "data": {
      "image/png": "[encoded data removed]",
      "text/plain": [
       "<Figure size 800x600 with 2 Axes>"
      ]
     },
     "metadata": {},
     "output_type": "display_data"
    }
   ],
   "source": [
    "tsne = TSNE(n_components=2, random_state=89, perplexity=30)  # You can tune perplexity as needed\n",
    "tsne_result = tsne.fit_transform(pca_result)\n",
    "\n",
    "# Step 7: Visualize the clusters using t-SNE for K-Means\n",
    "plt.figure(figsize=(8, 6))\n",
    "plt.scatter(tsne_result[:, 0], tsne_result[:, 1], c=kmeans.labels_, cmap='viridis', alpha=0.7)\n",
    "plt.title(\"K-Means Clusters on t-SNE-reduced Data\")\n",
    "plt.xlabel(\"t-SNE Component 1\")\n",
    "plt.ylabel(\"t-SNE Component 2\")\n",
    "plt.colorbar(label=\"Cluster\")\n",
    "plt.show()"
   ]
  },
  {
   "cell_type": "markdown",
   "metadata": {},
   "source": [
    "### Make The Labels More Meaningful"
   ]
  },
  {
   "cell_type": "code",
   "execution_count": null,
   "metadata": {},
   "outputs": [
    {
     "data": {
      "text/html": [
       "<div>\n",
       "<style scoped>\n",
       "    .dataframe tbody tr th:only-of-type {\n",
       "        vertical-align: middle;\n",
       "    }\n",
       "\n",
       "    .dataframe tbody tr th {\n",
       "        vertical-align: top;\n",
       "    }\n",
       "\n",
       "    .dataframe thead th {\n",
       "        text-align: right;\n",
       "    }\n",
       "</style>\n",
       "<table border=\"1\" class=\"dataframe\">\n",
       "  <thead>\n",
       "    <tr style=\"text-align: right;\">\n",
       "      <th></th>\n",
       "      <th>URI</th>\n",
       "      <th>name</th>\n",
       "      <th>text</th>\n",
       "    </tr>\n",
       "  </thead>\n",
       "  <tbody>\n",
       "    <tr>\n",
       "      <th>0</th>\n",
       "      <td>&lt;http://dbpedia.org/resource/Digby_Morrell&gt;</td>\n",
       "      <td>Digby Morrell</td>\n",
       "      <td>digby morrell born 10 october 1979 is a former...</td>\n",
       "    </tr>\n",
       "    <tr>\n",
       "      <th>1</th>\n",
       "      <td>&lt;http://dbpedia.org/resource/Alfred_J._Lewy&gt;</td>\n",
       "      <td>Alfred J. Lewy</td>\n",
       "      <td>alfred j lewy aka sandy lewy graduated from un...</td>\n",
       "    </tr>\n",
       "    <tr>\n",
       "      <th>2</th>\n",
       "      <td>&lt;http://dbpedia.org/resource/Harpdog_Brown&gt;</td>\n",
       "      <td>Harpdog Brown</td>\n",
       "      <td>harpdog brown is a singer and harmonica player...</td>\n",
       "    </tr>\n",
       "    <tr>\n",
       "      <th>3</th>\n",
       "      <td>&lt;http://dbpedia.org/resource/Franz_Rottensteiner&gt;</td>\n",
       "      <td>Franz Rottensteiner</td>\n",
       "      <td>franz rottensteiner born in waidmannsfeld lowe...</td>\n",
       "    </tr>\n",
       "    <tr>\n",
       "      <th>4</th>\n",
       "      <td>&lt;http://dbpedia.org/resource/G-Enka&gt;</td>\n",
       "      <td>G-Enka</td>\n",
       "      <td>henry krvits born 30 december 1974 in tallinn ...</td>\n",
       "    </tr>\n",
       "    <tr>\n",
       "      <th>...</th>\n",
       "      <td>...</td>\n",
       "      <td>...</td>\n",
       "      <td>...</td>\n",
       "    </tr>\n",
       "    <tr>\n",
       "      <th>59066</th>\n",
       "      <td>&lt;http://dbpedia.org/resource/Olari_Elts&gt;</td>\n",
       "      <td>Olari Elts</td>\n",
       "      <td>olari elts born april 27 1971 in tallinn eston...</td>\n",
       "    </tr>\n",
       "    <tr>\n",
       "      <th>59067</th>\n",
       "      <td>&lt;http://dbpedia.org/resource/Scott_F._Crago&gt;</td>\n",
       "      <td>Scott F. Crago</td>\n",
       "      <td>scott francis crago born july 26 1963 twin bro...</td>\n",
       "    </tr>\n",
       "    <tr>\n",
       "      <th>59068</th>\n",
       "      <td>&lt;http://dbpedia.org/resource/David_Cass_(footb...</td>\n",
       "      <td>David Cass (footballer)</td>\n",
       "      <td>david william royce cass born 27 march 1962 in...</td>\n",
       "    </tr>\n",
       "    <tr>\n",
       "      <th>59069</th>\n",
       "      <td>&lt;http://dbpedia.org/resource/Keith_Elias&gt;</td>\n",
       "      <td>Keith Elias</td>\n",
       "      <td>keith hector elias born february 3 1972 in lac...</td>\n",
       "    </tr>\n",
       "    <tr>\n",
       "      <th>59070</th>\n",
       "      <td>&lt;http://dbpedia.org/resource/Fawaz_Damrah&gt;</td>\n",
       "      <td>Fawaz Damrah</td>\n",
       "      <td>fawaz mohammed damrah arabic fawwz damra was t...</td>\n",
       "    </tr>\n",
       "  </tbody>\n",
       "</table>\n",
       "<p>59071 rows × 3 columns</p>\n",
       "</div>"
      ],
      "text/plain": [
       "                                                     URI  \\\n",
       "0            <http://dbpedia.org/resource/Digby_Morrell>   \n",
       "1           <http://dbpedia.org/resource/Alfred_J._Lewy>   \n",
       "2            <http://dbpedia.org/resource/Harpdog_Brown>   \n",
       "3      <http://dbpedia.org/resource/Franz_Rottensteiner>   \n",
       "4                   <http://dbpedia.org/resource/G-Enka>   \n",
       "...                                                  ...   \n",
       "59066           <http://dbpedia.org/resource/Olari_Elts>   \n",
       "59067       <http://dbpedia.org/resource/Scott_F._Crago>   \n",
       "59068  <http://dbpedia.org/resource/David_Cass_(footb...   \n",
       "59069          <http://dbpedia.org/resource/Keith_Elias>   \n",
       "59070         <http://dbpedia.org/resource/Fawaz_Damrah>   \n",
       "\n",
       "                          name  \\\n",
       "0                Digby Morrell   \n",
       "1               Alfred J. Lewy   \n",
       "2                Harpdog Brown   \n",
       "3          Franz Rottensteiner   \n",
       "4                       G-Enka   \n",
       "...                        ...   \n",
       "59066               Olari Elts   \n",
       "59067           Scott F. Crago   \n",
       "59068  David Cass (footballer)   \n",
       "59069              Keith Elias   \n",
       "59070             Fawaz Damrah   \n",
       "\n",
       "                                                    text  \n",
       "0      digby morrell born 10 october 1979 is a former...  \n",
       "1      alfred j lewy aka sandy lewy graduated from un...  \n",
       "2      harpdog brown is a singer and harmonica player...  \n",
       "3      franz rottensteiner born in waidmannsfeld lowe...  \n",
       "4      henry krvits born 30 december 1974 in tallinn ...  \n",
       "...                                                  ...  \n",
       "59066  olari elts born april 27 1971 in tallinn eston...  \n",
       "59067  scott francis crago born july 26 1963 twin bro...  \n",
       "59068  david william royce cass born 27 march 1962 in...  \n",
       "59069  keith hector elias born february 3 1972 in lac...  \n",
       "59070  fawaz mohammed damrah arabic fawwz damra was t...  \n",
       "\n",
       "[59071 rows x 3 columns]"
      ]
     },
     "metadata": {},
     "output_type": "display_data"
    }
   ],
   "source": [
    "# get the original data to search for the job title for each name in each label\n",
    "original_data = pd.read_csv('data/people_wiki.csv')\n",
    "original_data"
   ]
  },
  {
   "cell_type": "code",
   "execution_count": null,
   "metadata": {},
   "outputs": [],
   "source": [
    "# add the labels to the original dataset\n",
    "original_data['clusters'] = kmeans.labels_"
   ]
  },
  {
   "cell_type": "code",
   "execution_count": null,
   "metadata": {},
   "outputs": [
    {
     "data": {
      "text/html": [
       "<div>\n",
       "<style scoped>\n",
       "    .dataframe tbody tr th:only-of-type {\n",
       "        vertical-align: middle;\n",
       "    }\n",
       "\n",
       "    .dataframe tbody tr th {\n",
       "        vertical-align: top;\n",
       "    }\n",
       "\n",
       "    .dataframe thead th {\n",
       "        text-align: right;\n",
       "    }\n",
       "</style>\n",
       "<table border=\"1\" class=\"dataframe\">\n",
       "  <thead>\n",
       "    <tr style=\"text-align: right;\">\n",
       "      <th></th>\n",
       "      <th>URI</th>\n",
       "      <th>name</th>\n",
       "      <th>text</th>\n",
       "    </tr>\n",
       "  </thead>\n",
       "  <tbody>\n",
       "    <tr>\n",
       "      <th>0</th>\n",
       "      <td>&lt;http://dbpedia.org/resource/Digby_Morrell&gt;</td>\n",
       "      <td>Digby Morrell</td>\n",
       "      <td>digby morrell born 10 october 1979 is a former...</td>\n",
       "    </tr>\n",
       "    <tr>\n",
       "      <th>17</th>\n",
       "      <td>&lt;http://dbpedia.org/resource/Paddy_Dunne_(Gael...</td>\n",
       "      <td>Paddy Dunne (Gaelic footballer)</td>\n",
       "      <td>paddy dunne was a gaelic football player from ...</td>\n",
       "    </tr>\n",
       "    <tr>\n",
       "      <th>21</th>\n",
       "      <td>&lt;http://dbpedia.org/resource/Ceiron_Thomas&gt;</td>\n",
       "      <td>Ceiron Thomas</td>\n",
       "      <td>ceiron thomas born 23 october 1983 is a welsh ...</td>\n",
       "    </tr>\n",
       "    <tr>\n",
       "      <th>22</th>\n",
       "      <td>&lt;http://dbpedia.org/resource/Adel_Sellimi&gt;</td>\n",
       "      <td>Adel Sellimi</td>\n",
       "      <td>adel sellimi arabic was born on 16 november 19...</td>\n",
       "    </tr>\n",
       "    <tr>\n",
       "      <th>25</th>\n",
       "      <td>&lt;http://dbpedia.org/resource/Vic_Stasiuk&gt;</td>\n",
       "      <td>Vic Stasiuk</td>\n",
       "      <td>victor john stasiuk born may 23 1929 is a reti...</td>\n",
       "    </tr>\n",
       "    <tr>\n",
       "      <th>...</th>\n",
       "      <td>...</td>\n",
       "      <td>...</td>\n",
       "      <td>...</td>\n",
       "    </tr>\n",
       "    <tr>\n",
       "      <th>59052</th>\n",
       "      <td>&lt;http://dbpedia.org/resource/Dave_Nilsson&gt;</td>\n",
       "      <td>Dave Nilsson</td>\n",
       "      <td>david wayne nilsson born 14 december 1969 is a...</td>\n",
       "    </tr>\n",
       "    <tr>\n",
       "      <th>59054</th>\n",
       "      <td>&lt;http://dbpedia.org/resource/Marina_Mulyayeva&gt;</td>\n",
       "      <td>Marina Mulyayeva</td>\n",
       "      <td>marina vladimirovna mulyayeva kazakh born apri...</td>\n",
       "    </tr>\n",
       "    <tr>\n",
       "      <th>59065</th>\n",
       "      <td>&lt;http://dbpedia.org/resource/Dee_Brown_(basket...</td>\n",
       "      <td>Dee Brown (basketball, born 1968)</td>\n",
       "      <td>decovan kadell dee brown born november 29 1968...</td>\n",
       "    </tr>\n",
       "    <tr>\n",
       "      <th>59068</th>\n",
       "      <td>&lt;http://dbpedia.org/resource/David_Cass_(footb...</td>\n",
       "      <td>David Cass (footballer)</td>\n",
       "      <td>david william royce cass born 27 march 1962 in...</td>\n",
       "    </tr>\n",
       "    <tr>\n",
       "      <th>59069</th>\n",
       "      <td>&lt;http://dbpedia.org/resource/Keith_Elias&gt;</td>\n",
       "      <td>Keith Elias</td>\n",
       "      <td>keith hector elias born february 3 1972 in lac...</td>\n",
       "    </tr>\n",
       "  </tbody>\n",
       "</table>\n",
       "<p>12672 rows × 3 columns</p>\n",
       "</div>"
      ],
      "text/plain": [
       "                                                     URI  \\\n",
       "0            <http://dbpedia.org/resource/Digby_Morrell>   \n",
       "17     <http://dbpedia.org/resource/Paddy_Dunne_(Gael...   \n",
       "21           <http://dbpedia.org/resource/Ceiron_Thomas>   \n",
       "22            <http://dbpedia.org/resource/Adel_Sellimi>   \n",
       "25             <http://dbpedia.org/resource/Vic_Stasiuk>   \n",
       "...                                                  ...   \n",
       "59052         <http://dbpedia.org/resource/Dave_Nilsson>   \n",
       "59054     <http://dbpedia.org/resource/Marina_Mulyayeva>   \n",
       "59065  <http://dbpedia.org/resource/Dee_Brown_(basket...   \n",
       "59068  <http://dbpedia.org/resource/David_Cass_(footb...   \n",
       "59069          <http://dbpedia.org/resource/Keith_Elias>   \n",
       "\n",
       "                                    name  \\\n",
       "0                          Digby Morrell   \n",
       "17       Paddy Dunne (Gaelic footballer)   \n",
       "21                         Ceiron Thomas   \n",
       "22                          Adel Sellimi   \n",
       "25                           Vic Stasiuk   \n",
       "...                                  ...   \n",
       "59052                       Dave Nilsson   \n",
       "59054                   Marina Mulyayeva   \n",
       "59065  Dee Brown (basketball, born 1968)   \n",
       "59068            David Cass (footballer)   \n",
       "59069                        Keith Elias   \n",
       "\n",
       "                                                    text  \n",
       "0      digby morrell born 10 october 1979 is a former...  \n",
       "17     paddy dunne was a gaelic football player from ...  \n",
       "21     ceiron thomas born 23 october 1983 is a welsh ...  \n",
       "22     adel sellimi arabic was born on 16 november 19...  \n",
       "25     victor john stasiuk born may 23 1929 is a reti...  \n",
       "...                                                  ...  \n",
       "59052  david wayne nilsson born 14 december 1969 is a...  \n",
       "59054  marina vladimirovna mulyayeva kazakh born apri...  \n",
       "59065  decovan kadell dee brown born november 29 1968...  \n",
       "59068  david william royce cass born 27 march 1962 in...  \n",
       "59069  keith hector elias born february 3 1972 in lac...  \n",
       "\n",
       "[12672 rows x 3 columns]"
      ]
     },
     "metadata": {},
     "output_type": "display_data"
    }
   ],
   "source": [
    "original_data[['URI','name', 'text']][original_data['clusters'] == 0] # sports"
   ]
  },
  {
   "cell_type": "code",
   "execution_count": null,
   "metadata": {},
   "outputs": [
    {
     "data": {
      "text/html": [
       "<div>\n",
       "<style scoped>\n",
       "    .dataframe tbody tr th:only-of-type {\n",
       "        vertical-align: middle;\n",
       "    }\n",
       "\n",
       "    .dataframe tbody tr th {\n",
       "        vertical-align: top;\n",
       "    }\n",
       "\n",
       "    .dataframe thead th {\n",
       "        text-align: right;\n",
       "    }\n",
       "</style>\n",
       "<table border=\"1\" class=\"dataframe\">\n",
       "  <thead>\n",
       "    <tr style=\"text-align: right;\">\n",
       "      <th></th>\n",
       "      <th>URI</th>\n",
       "      <th>name</th>\n",
       "      <th>text</th>\n",
       "    </tr>\n",
       "  </thead>\n",
       "  <tbody>\n",
       "    <tr>\n",
       "      <th>1</th>\n",
       "      <td>&lt;http://dbpedia.org/resource/Alfred_J._Lewy&gt;</td>\n",
       "      <td>Alfred J. Lewy</td>\n",
       "      <td>alfred j lewy aka sandy lewy graduated from un...</td>\n",
       "    </tr>\n",
       "    <tr>\n",
       "      <th>9</th>\n",
       "      <td>&lt;http://dbpedia.org/resource/Cathy_Caruth&gt;</td>\n",
       "      <td>Cathy Caruth</td>\n",
       "      <td>cathy caruth born 1955 is frank h t rhodes pro...</td>\n",
       "    </tr>\n",
       "    <tr>\n",
       "      <th>13</th>\n",
       "      <td>&lt;http://dbpedia.org/resource/Anthony_Gueterboc...</td>\n",
       "      <td>Anthony Gueterbock, 18th Baron Berkeley</td>\n",
       "      <td>anthony fitzhardinge gueterbock 18th baron ber...</td>\n",
       "    </tr>\n",
       "    <tr>\n",
       "      <th>14</th>\n",
       "      <td>&lt;http://dbpedia.org/resource/David_Chernushenko&gt;</td>\n",
       "      <td>David Chernushenko</td>\n",
       "      <td>david chernushenko born june 1963 in calgary a...</td>\n",
       "    </tr>\n",
       "    <tr>\n",
       "      <th>16</th>\n",
       "      <td>&lt;http://dbpedia.org/resource/Andrew_Pinsent&gt;</td>\n",
       "      <td>Andrew Pinsent</td>\n",
       "      <td>fr andrew pinsent born 19 august 1966 is resea...</td>\n",
       "    </tr>\n",
       "    <tr>\n",
       "      <th>...</th>\n",
       "      <td>...</td>\n",
       "      <td>...</td>\n",
       "      <td>...</td>\n",
       "    </tr>\n",
       "    <tr>\n",
       "      <th>59061</th>\n",
       "      <td>&lt;http://dbpedia.org/resource/Rod_Wilt&gt;</td>\n",
       "      <td>Rod Wilt</td>\n",
       "      <td>rod wilt is a former republican member of the ...</td>\n",
       "    </tr>\n",
       "    <tr>\n",
       "      <th>59062</th>\n",
       "      <td>&lt;http://dbpedia.org/resource/Scott_Baker_(judge)&gt;</td>\n",
       "      <td>Scott Baker (judge)</td>\n",
       "      <td>sir thomas scott gillespie baker born 10 decem...</td>\n",
       "    </tr>\n",
       "    <tr>\n",
       "      <th>59063</th>\n",
       "      <td>&lt;http://dbpedia.org/resource/Dragoljub_Ojdani%...</td>\n",
       "      <td>Dragoljub Ojdani%C4%87</td>\n",
       "      <td>dragoljub ojdani serbian cyrillic born june 1 ...</td>\n",
       "    </tr>\n",
       "    <tr>\n",
       "      <th>59064</th>\n",
       "      <td>&lt;http://dbpedia.org/resource/Oz_Bengur&gt;</td>\n",
       "      <td>Oz Bengur</td>\n",
       "      <td>osman oz bengur born february 23 1949 is an am...</td>\n",
       "    </tr>\n",
       "    <tr>\n",
       "      <th>59070</th>\n",
       "      <td>&lt;http://dbpedia.org/resource/Fawaz_Damrah&gt;</td>\n",
       "      <td>Fawaz Damrah</td>\n",
       "      <td>fawaz mohammed damrah arabic fawwz damra was t...</td>\n",
       "    </tr>\n",
       "  </tbody>\n",
       "</table>\n",
       "<p>22889 rows × 3 columns</p>\n",
       "</div>"
      ],
      "text/plain": [
       "                                                     URI  \\\n",
       "1           <http://dbpedia.org/resource/Alfred_J._Lewy>   \n",
       "9             <http://dbpedia.org/resource/Cathy_Caruth>   \n",
       "13     <http://dbpedia.org/resource/Anthony_Gueterboc...   \n",
       "14      <http://dbpedia.org/resource/David_Chernushenko>   \n",
       "16          <http://dbpedia.org/resource/Andrew_Pinsent>   \n",
       "...                                                  ...   \n",
       "59061             <http://dbpedia.org/resource/Rod_Wilt>   \n",
       "59062  <http://dbpedia.org/resource/Scott_Baker_(judge)>   \n",
       "59063  <http://dbpedia.org/resource/Dragoljub_Ojdani%...   \n",
       "59064            <http://dbpedia.org/resource/Oz_Bengur>   \n",
       "59070         <http://dbpedia.org/resource/Fawaz_Damrah>   \n",
       "\n",
       "                                          name  \\\n",
       "1                               Alfred J. Lewy   \n",
       "9                                 Cathy Caruth   \n",
       "13     Anthony Gueterbock, 18th Baron Berkeley   \n",
       "14                          David Chernushenko   \n",
       "16                              Andrew Pinsent   \n",
       "...                                        ...   \n",
       "59061                                 Rod Wilt   \n",
       "59062                      Scott Baker (judge)   \n",
       "59063                   Dragoljub Ojdani%C4%87   \n",
       "59064                                Oz Bengur   \n",
       "59070                             Fawaz Damrah   \n",
       "\n",
       "                                                    text  \n",
       "1      alfred j lewy aka sandy lewy graduated from un...  \n",
       "9      cathy caruth born 1955 is frank h t rhodes pro...  \n",
       "13     anthony fitzhardinge gueterbock 18th baron ber...  \n",
       "14     david chernushenko born june 1963 in calgary a...  \n",
       "16     fr andrew pinsent born 19 august 1966 is resea...  \n",
       "...                                                  ...  \n",
       "59061  rod wilt is a former republican member of the ...  \n",
       "59062  sir thomas scott gillespie baker born 10 decem...  \n",
       "59063  dragoljub ojdani serbian cyrillic born june 1 ...  \n",
       "59064  osman oz bengur born february 23 1949 is an am...  \n",
       "59070  fawaz mohammed damrah arabic fawwz damra was t...  \n",
       "\n",
       "[22889 rows x 3 columns]"
      ]
     },
     "metadata": {},
     "output_type": "display_data"
    }
   ],
   "source": [
    "original_data[['URI','name', 'text']][original_data['clusters'] == 1] # Business and Politics "
   ]
  },
  {
   "cell_type": "code",
   "execution_count": null,
   "metadata": {},
   "outputs": [
    {
     "data": {
      "text/html": [
       "<div>\n",
       "<style scoped>\n",
       "    .dataframe tbody tr th:only-of-type {\n",
       "        vertical-align: middle;\n",
       "    }\n",
       "\n",
       "    .dataframe tbody tr th {\n",
       "        vertical-align: top;\n",
       "    }\n",
       "\n",
       "    .dataframe thead th {\n",
       "        text-align: right;\n",
       "    }\n",
       "</style>\n",
       "<table border=\"1\" class=\"dataframe\">\n",
       "  <thead>\n",
       "    <tr style=\"text-align: right;\">\n",
       "      <th></th>\n",
       "      <th>URI</th>\n",
       "      <th>name</th>\n",
       "      <th>text</th>\n",
       "    </tr>\n",
       "  </thead>\n",
       "  <tbody>\n",
       "    <tr>\n",
       "      <th>2</th>\n",
       "      <td>&lt;http://dbpedia.org/resource/Harpdog_Brown&gt;</td>\n",
       "      <td>Harpdog Brown</td>\n",
       "      <td>harpdog brown is a singer and harmonica player...</td>\n",
       "    </tr>\n",
       "    <tr>\n",
       "      <th>3</th>\n",
       "      <td>&lt;http://dbpedia.org/resource/Franz_Rottensteiner&gt;</td>\n",
       "      <td>Franz Rottensteiner</td>\n",
       "      <td>franz rottensteiner born in waidmannsfeld lowe...</td>\n",
       "    </tr>\n",
       "    <tr>\n",
       "      <th>4</th>\n",
       "      <td>&lt;http://dbpedia.org/resource/G-Enka&gt;</td>\n",
       "      <td>G-Enka</td>\n",
       "      <td>henry krvits born 30 december 1974 in tallinn ...</td>\n",
       "    </tr>\n",
       "    <tr>\n",
       "      <th>5</th>\n",
       "      <td>&lt;http://dbpedia.org/resource/Sam_Henderson&gt;</td>\n",
       "      <td>Sam Henderson</td>\n",
       "      <td>sam henderson born october 18 1969 is an ameri...</td>\n",
       "    </tr>\n",
       "    <tr>\n",
       "      <th>6</th>\n",
       "      <td>&lt;http://dbpedia.org/resource/Aaron_LaCrate&gt;</td>\n",
       "      <td>Aaron LaCrate</td>\n",
       "      <td>aaron lacrate is an american music producer re...</td>\n",
       "    </tr>\n",
       "    <tr>\n",
       "      <th>...</th>\n",
       "      <td>...</td>\n",
       "      <td>...</td>\n",
       "      <td>...</td>\n",
       "    </tr>\n",
       "    <tr>\n",
       "      <th>59058</th>\n",
       "      <td>&lt;http://dbpedia.org/resource/George_Krause&gt;</td>\n",
       "      <td>George Krause</td>\n",
       "      <td>george krause born 1937 philadelphia pennsylva...</td>\n",
       "    </tr>\n",
       "    <tr>\n",
       "      <th>59059</th>\n",
       "      <td>&lt;http://dbpedia.org/resource/Sean_Slade&gt;</td>\n",
       "      <td>Sean Slade</td>\n",
       "      <td>sean slade b november 14 1957 lansing michigan...</td>\n",
       "    </tr>\n",
       "    <tr>\n",
       "      <th>59060</th>\n",
       "      <td>&lt;http://dbpedia.org/resource/Lynne_Lipton&gt;</td>\n",
       "      <td>Lynne Lipton</td>\n",
       "      <td>lynne lipton is an american film stage televis...</td>\n",
       "    </tr>\n",
       "    <tr>\n",
       "      <th>59066</th>\n",
       "      <td>&lt;http://dbpedia.org/resource/Olari_Elts&gt;</td>\n",
       "      <td>Olari Elts</td>\n",
       "      <td>olari elts born april 27 1971 in tallinn eston...</td>\n",
       "    </tr>\n",
       "    <tr>\n",
       "      <th>59067</th>\n",
       "      <td>&lt;http://dbpedia.org/resource/Scott_F._Crago&gt;</td>\n",
       "      <td>Scott F. Crago</td>\n",
       "      <td>scott francis crago born july 26 1963 twin bro...</td>\n",
       "    </tr>\n",
       "  </tbody>\n",
       "</table>\n",
       "<p>23510 rows × 3 columns</p>\n",
       "</div>"
      ],
      "text/plain": [
       "                                                     URI                 name  \\\n",
       "2            <http://dbpedia.org/resource/Harpdog_Brown>        Harpdog Brown   \n",
       "3      <http://dbpedia.org/resource/Franz_Rottensteiner>  Franz Rottensteiner   \n",
       "4                   <http://dbpedia.org/resource/G-Enka>               G-Enka   \n",
       "5            <http://dbpedia.org/resource/Sam_Henderson>        Sam Henderson   \n",
       "6            <http://dbpedia.org/resource/Aaron_LaCrate>        Aaron LaCrate   \n",
       "...                                                  ...                  ...   \n",
       "59058        <http://dbpedia.org/resource/George_Krause>        George Krause   \n",
       "59059           <http://dbpedia.org/resource/Sean_Slade>           Sean Slade   \n",
       "59060         <http://dbpedia.org/resource/Lynne_Lipton>         Lynne Lipton   \n",
       "59066           <http://dbpedia.org/resource/Olari_Elts>           Olari Elts   \n",
       "59067       <http://dbpedia.org/resource/Scott_F._Crago>       Scott F. Crago   \n",
       "\n",
       "                                                    text  \n",
       "2      harpdog brown is a singer and harmonica player...  \n",
       "3      franz rottensteiner born in waidmannsfeld lowe...  \n",
       "4      henry krvits born 30 december 1974 in tallinn ...  \n",
       "5      sam henderson born october 18 1969 is an ameri...  \n",
       "6      aaron lacrate is an american music producer re...  \n",
       "...                                                  ...  \n",
       "59058  george krause born 1937 philadelphia pennsylva...  \n",
       "59059  sean slade b november 14 1957 lansing michigan...  \n",
       "59060  lynne lipton is an american film stage televis...  \n",
       "59066  olari elts born april 27 1971 in tallinn eston...  \n",
       "59067  scott francis crago born july 26 1963 twin bro...  \n",
       "\n",
       "[23510 rows x 3 columns]"
      ]
     },
     "metadata": {},
     "output_type": "display_data"
    }
   ],
   "source": [
    "original_data[['URI','name', 'text']][original_data['clusters'] == 2] # ART and Entertainment"
   ]
  },
  {
   "cell_type": "code",
   "execution_count": 152,
   "metadata": {},
   "outputs": [
    {
     "data": {
      "text/plain": [
       "'harpdog brown is a singer and harmonica player who has been active in canadas blues scene since 1982 hailing from vancouver he crossed tens of thousands of miles playing club dates and festivals in canada the northwestern united states and germanyover the years he has issued seven cds in 1995 his home is where the harp is won the muddy award for the best nw blues release from the cascade blues association in portland oregon as well that year it was nominated for a canadian juno for the best bluesgospel recording teamed up with graham guest on piano his cd naturally was voted 1 canadian blues album of 2010 by the blind lemon surveybrown tours extensively with his guitarist j arthur edmonds performing their electric mid1950s chicago blues either as a duo or with the full band while he is home he juggles a few combos working many venues big and small he also leads the harpdog brown band which is a gutsy traditional chicago blues band in 2014 they released what it is comprising mainly original songs and a few classic covers influential blues promoter and broadcaster holger petersen called what it is browns best albumhe was just awarded the maple blues award in toronto for best harmonica player in canada 2014 and was honored with a life time membership to the hamilton blues society'"
      ]
     },
     "execution_count": 152,
     "metadata": {},
     "output_type": "execute_result"
    }
   ],
   "source": [
    "original_data['text'][original_data['clusters'] == 2][2]"
   ]
  },
  {
   "cell_type": "markdown",
   "metadata": {},
   "source": [
    "### Save Scaler, pca, vectorizer and Model Using Pickle"
   ]
  },
  {
   "cell_type": "code",
   "execution_count": null,
   "metadata": {},
   "outputs": [],
   "source": [
    "with open('std_scaler.pkl', 'wb') as file:\n",
    "    pickle.dump(scaler, file)\n",
    "\n",
    "with open('kmeans_model.pkl', 'wb') as file:\n",
    "    pickle.dump(kmeans, file)\n",
    "\n",
    "with open('PCA.pkl', 'wb') as file:\n",
    "    pickle.dump(pca, file)"
   ]
  },
  {
   "cell_type": "code",
   "execution_count": 153,
   "metadata": {},
   "outputs": [],
   "source": [
    "with open('vectorizer.pkl', 'wb') as file:\n",
    "    pickle.dump(vectorizer, file)"
   ]
  }
 ],
 "metadata": {
  "kernelspec": {
   "display_name": "Python 3",
   "language": "python",
   "name": "python3"
  },
  "language_info": {
   "codemirror_mode": {
    "name": "ipython",
    "version": 3
   },
   "file_extension": ".py",
   "mimetype": "text/x-python",
   "name": "python",
   "nbconvert_exporter": "python",
   "pygments_lexer": "ipython3",
   "version": "3.9.0"
  }
 },
 "nbformat": 4,
 "nbformat_minor": 2
}
